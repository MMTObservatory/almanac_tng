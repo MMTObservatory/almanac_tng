{
 "cells": [
  {
   "cell_type": "code",
   "execution_count": 2,
   "metadata": {},
   "outputs": [],
   "source": [
    "import datetime\n",
    "import time\n",
    "import os\n",
    "import sys\n",
    "import pytz\n",
    "from pathlib import Path\n",
    "\n",
    "import numpy as np\n",
    "import pandas as pd\n",
    "\n",
    "import astroplan\n",
    "import skyfield\n",
    "\n",
    "import astropy.units as u\n",
    "\n",
    "from astropy.coordinates import EarthLocation\n",
    "from astropy.time import Time\n",
    "\n",
    "from skyfield import api\n",
    "from skyfield import almanac\n",
    "\n",
    "import matplotlib\n",
    "from matplotlib import style\n",
    "style.use('ggplot')\n",
    "import matplotlib.pyplot as plt"
   ]
  },
  {
   "cell_type": "code",
   "execution_count": 3,
   "metadata": {},
   "outputs": [],
   "source": [
    "%load_ext autoreload\n",
    "%autoreload 2\n",
    "%matplotlib widget\n",
    "\n",
    "ts = api.load.timescale()\n",
    "e = api.load('de421.bsp')\n",
    "tz = pytz.timezone(\"America/Phoenix\")"
   ]
  },
  {
   "cell_type": "code",
   "execution_count": 4,
   "metadata": {},
   "outputs": [],
   "source": [
    "def nearest_minute(dt):\n",
    "    # USNO predictions round to nearest minute so we use this hack to follow that\n",
    "    return (dt + datetime.timedelta(seconds=30)).replace(second=0, microsecond=0)"
   ]
  },
  {
   "cell_type": "code",
   "execution_count": 5,
   "metadata": {},
   "outputs": [
    {
     "data": {
      "text/plain": [
       "'2019-12-20T00:23:04.357'"
      ]
     },
     "execution_count": 5,
     "metadata": {},
     "output_type": "execute_result"
    }
   ],
   "source": [
    "lat = \"31:41:19.6\"\n",
    "lon = \"-110:53:04.4\"\n",
    "elevation = 2600 * u.m\n",
    "location = EarthLocation.from_geodetic(lon, lat, elevation)\n",
    "mmt = astroplan.Observer(name=\"MMTO\", location=location, timezone=\"US/Arizona\", pressure=0*u.mbar)\n",
    "tset = mmt.sun_set_time(Time(datetime.datetime.now()), which='next', horizon=-0.8333*u.deg)\n",
    "tset.isot"
   ]
  },
  {
   "cell_type": "code",
   "execution_count": 6,
   "metadata": {},
   "outputs": [],
   "source": [
    "mmt_sf = api.Topos(latitude_degrees=location.lat.value, longitude_degrees=location.lon.value, elevation_m=2600.0)"
   ]
  },
  {
   "cell_type": "code",
   "execution_count": 7,
   "metadata": {},
   "outputs": [
    {
     "name": "stdout",
     "output_type": "stream",
     "text": [
      "     2019          Sun     Sun     Sun    RA 3H                RA 3H    Sun     Sun     Sun               Moon    Moon   Moon @ Midnight\n",
      " Date    Sunset   6 Deg   12 Deg  18 Deg  West at  Sid Time    East at 18 Deg  12 Deg  6 Deg  Sunrise     rise    set    Illum     Age  \n",
      "                  W Hrz   W Hrz   W Hrz   18 Deg   Midnight    18 Deg  E Hrz   E Hrz   E Hrz                               %       Days\n",
      "\n",
      "Jan 01    17 31   17 58   18 28   18 58   22 20     6 22 59     15 21   5 57    6 26    6 57    7 24      4 18             13      -3.8\n",
      "Jan 02    17 32   17 59   18 29   18 58   22 25     6 26 55     15 25   5 57    6 27    6 57    7 24      5 15              7      -2.8\n",
      "Jan 03    17 32   17 59   18 30   18 59   22 29     6 30 52     15 29   5 57    6 27    6 57    7 24      6 10              3      -1.8\n",
      "Jan 04    17 33   18 00   18 30   19 00   22 34     6 34 49     15 33   5 58    6 27    6 57    7 24      7 02              1      -0.8\n",
      "Jan 05    17 34   18 01   18 31   19 01   22 38     6 38 45     15 37   5 58    6 27    6 57    7 24                        0       0.2\n",
      "Jan 06    17 35   18 01   18 32   19 01   22 43     6 42 42     15 42   5 58    6 27    6 58    7 24              18 21     1       1.2\n",
      "Jan 07    17 36   18 02   18 32   19 02   22 48     6 46 38     15 46   5 58    6 28    6 58    7 24              19 14     4       2.2\n",
      "Jan 08    17 36   18 03   18 33   19 03   22 52     6 50 35     15 50   5 58    6 28    6 58    7 24              20 08     9       3.2\n",
      "Jan 09    17 37   18 04   18 34   19 03   22 57     6 54 31     15 54   5 58    6 28    6 58    7 24              21 02    15       4.2\n",
      "Jan 10    17 38   18 05   18 35   19 04   23 02     6 58 28     15 58   5 58    6 28    6 58    7 24              21 55    23       5.2\n",
      "Jan 11    17 39   18 05   18 36   19 05   23 07     7 02 24     16 02   5 58    6 28    6 58    7 24              22 48    31       6.2\n",
      "Jan 12    17 40   18 06   18 36   19 06   23 11     7 06 21     16 06   5 58    6 28    6 58    7 24              23 43    40       7.2\n",
      "Jan 13    17 41   18 07   18 37   19 06   23 16     7 10 18     16 10   5 58    6 28    6 58    7 24              0 38     50       8.2\n",
      "Jan 14    17 42   18 08   18 38   19 07   23 21     7 14 14     16 13   5 58    6 28    6 57    7 24              1 35     60       9.2\n",
      "Jan 15    17 42   18 09   18 39   19 08   23 25     7 18 11     16 17   5 58    6 27    6 57    7 24              2 35     70      10.2\n",
      "Jan 16    17 43   18 10   18 39   19 09   23 30     7 22 07     16 21   5 58    6 27    6 57    7 23              3 38     80      11.2\n",
      "Jan 17    17 44   18 10   18 40   19 10   23 35     7 26 04     16 25   5 58    6 27    6 57    7 23              4 43     88      12.2\n",
      "Jan 18    17 45   18 11   18 41   19 10   23 40     7 30 00     16 29   5 58    6 27    6 57    7 23              5 48     95      13.2\n",
      "Jan 19    17 46   18 12   18 42   19 11   23 44     7 33 57     16 32   5 58    6 27    6 56    7 22              6 51     99      14.2\n",
      "Jan 20    17 47   18 13   18 43   19 12   23 49     7 37 53     16 36   5 57    6 26    6 56    7 22                      100     -14.6\n",
      "Jan 21    17 48   18 14   18 44   19 13   23 54     7 41 50     16 40   5 57    6 26    6 56    7 22      18 40            98     -13.6\n",
      "Jan 22    17 49   18 15   18 44   19 13   23 58     7 45 47     16 44   5 57    6 26    6 55    7 21      19 51            94     -12.6\n",
      "Jan 23    17 50   18 16   18 45   19 14   00 03     7 49 43     16 47   5 57    6 26    6 55    7 21      21 00            86     -11.6\n",
      "Jan 24    17 51   18 17   18 46   19 15   00 08     7 53 40     16 51   5 56    6 25    6 55    7 21      22 07            77     -10.6\n",
      "Jan 25    17 52   18 17   18 47   19 16   00 13     7 57 36     16 54   5 56    6 25    6 54    7 20      23 11            67      -9.6\n",
      "Jan 26    17 52   18 18   18 48   19 17   00 17     8 01 33     16 58   5 55    6 24    6 54    7 20      0 14             56      -8.6\n",
      "Jan 27    17 53   18 19   18 48   19 17   00 22     8 05 29     17 02   5 55    6 24    6 53    7 19      1 14             46      -7.6\n",
      "Jan 28    17 54   18 20   18 49   19 18   00 27     8 09 26     17 05   5 55    6 24    6 53    7 18      2 13             36      -6.6\n",
      "Jan 29    17 55   18 21   18 50   19 19   00 32     8 13 22     17 09   5 54    6 23    6 52    7 18      3 10             26      -5.6\n",
      "Jan 30    17 56   18 22   18 51   19 20   00 36     8 17 19     17 12   5 54    6 23    6 52    7 17      4 06             18      -4.6\n",
      "Jan 31    17 57   18 23   18 52   19 21   00 41     8 21 16     17 15   5 53    6 22    6 51    7 17      4 59             11      -3.6\n"
     ]
    }
   ],
   "source": [
    "year = 2019\n",
    "\n",
    "# get new moons bracketing requested year\n",
    "t0 = ts.utc(year-1, 11, 1)\n",
    "t1 = ts.utc(year+1, 3, 1)\n",
    "phase_times, phase_flags = almanac.find_discrete(t0, t1, almanac.moon_phases(e))\n",
    "newmoons = phase_times[phase_flags == 0]\n",
    "\n",
    "date_range = pd.date_range(start=f\"1/1/{year}\", end=f\"1/31/{year}\", tz=tz)\n",
    "usno_horizon = -(5/6) * u.deg\n",
    "horizons = {\n",
    "    \"6 Deg\": -6 * u.deg,\n",
    "    \"12 Deg\": -12 * u.deg,\n",
    "    \"18 Deg\": -18 * u.deg\n",
    "}\n",
    "\n",
    "header1 = f\"     {year}          Sun     Sun     Sun    RA 3H                RA 3H    Sun     Sun     Sun               Moon    Moon   Moon @ Midnight\"\n",
    "header2 = \" Date    Sunset   6 Deg   12 Deg  18 Deg  West at  Sid Time    East at 18 Deg  12 Deg  6 Deg  Sunrise     rise    set    Illum     Age  \"\n",
    "header3 = \"                  W Hrz   W Hrz   W Hrz   18 Deg   Midnight    18 Deg  E Hrz   E Hrz   E Hrz                               %       Days\\n\"\n",
    "\n",
    "print(header1)\n",
    "print(header2)\n",
    "print(header3)\n",
    "for d in date_range:\n",
    "     # almanac day is MST, but its night falls into the next day in UT\n",
    "    night_start = Time(f\"{str(d.date())} 00:00:00\") + 1 * u.day\n",
    "    \n",
    "    d_str = d.date().strftime(\"%b %d\")\n",
    "    \n",
    "    tset = mmt.sun_set_time(night_start, which='next', horizon=usno_horizon)\n",
    "    tset_str = nearest_minute(tset.to_datetime(timezone=tz)).strftime(\"%-H %M\")\n",
    "    tset_twilights = {}\n",
    "    for k, h in horizons.items():\n",
    "        tset_twilights[k] = mmt.sun_set_time(night_start, which='next', horizon=h)\n",
    "        \n",
    "    eve_str = \"\"\n",
    "    for t in tset_twilights:\n",
    "        eve_str += nearest_minute(tset_twilights[t].to_datetime(timezone=tz)).strftime(\"%-H %M\")\n",
    "        eve_str += \"   \"\n",
    "\n",
    "    ra3_west = tset_twilights['18 Deg'].sidereal_time(kind='apparent', longitude=mmt.location.lon) - 3 * u.hourangle + (30/3600) * u.hourangle  # add 30 sec to round to nearest minute\n",
    "    ra3_west = ra3_west.wrap_at(24 * u.hourangle)\n",
    "    ra3_west_str = \"{:02d} {:02d}\".format(int(ra3_west.hms.h), int(ra3_west.hms.m))\n",
    "    \n",
    "    # set up local midnight for the date we're calculating\n",
    "    midnight = Time(f\"{str(d.date())} 07:00:00\") + 1 * u.day\n",
    "    midnight_st = (Time(f\"{str(d.date())} 07:00:00\") + 1 * u.day).sidereal_time(kind='apparent', longitude=mmt.location.lon).to_string(sep=' ', precision=0)\n",
    "\n",
    "    trise = mmt.sun_rise_time(night_start, which='next', horizon=usno_horizon)\n",
    "    trise_str = nearest_minute(trise.to_datetime(timezone=tz)).strftime(\"%-H %M\").format(\"{:5s}\")\n",
    "    trise_twilights = {}\n",
    "    for k, h in horizons.items():\n",
    "        trise_twilights[k] = mmt.sun_rise_time(night_start, which='next', horizon=h)\n",
    "         \n",
    "    ra3_east = trise_twilights['18 Deg'].sidereal_time(kind='apparent', longitude=mmt.location.lon) + 3 * u.hourangle + (30/3600) * u.hourangle  # add 30 sec to round to nearest minute\n",
    "    ra3_east = ra3_east.wrap_at(24 * u.hourangle)\n",
    "    ra3_east_str = \"{:02d} {:02d}\".format(int(ra3_east.hms.h), int(ra3_east.hms.m))\n",
    "\n",
    "    morn_str = \"\"\n",
    "    for t in list(trise_twilights.keys())[::-1]:\n",
    "        morn_str += nearest_minute(trise_twilights[t].to_datetime(timezone=tz)).strftime(\"%-H %M\")\n",
    "        morn_str += \"    \"\n",
    "    \n",
    "    moon_rise = mmt.moon_rise_time(night_start, which='next', horizon=usno_horizon)\n",
    "    moon_set = mmt.moon_set_time(night_start, which='next', horizon=usno_horizon)\n",
    "\n",
    "    if moon_rise < trise and moon_rise > tset:\n",
    "        mr_str = nearest_minute(moon_rise.to_datetime(timezone=tz)).strftime(\"%-H %M\")\n",
    "    else:\n",
    "        mr_str = \"     \"\n",
    "    if moon_set > tset and moon_set < trise:\n",
    "        ms_str = nearest_minute(moon_set.to_datetime(timezone=tz)).strftime(\"%-H %M\")\n",
    "    else:\n",
    "        ms_str = \"     \"\n",
    "    \n",
    "    moon_ill = \"{:3d}\".format(int(round(100 * mmt.moon_illumination(midnight))))\n",
    "    newmoon_diff = midnight.to_datetime(timezone=pytz.utc) - newmoons.utc_datetime()\n",
    "    nearest = abs(newmoon_diff).argmin()\n",
    "    age = newmoon_diff[nearest].total_seconds()/86400\n",
    "    age_str = \"{:5.1f}\".format(age)\n",
    "    #print(f\"{d_str}    {tset_str}   {eve_str}{ra3_west_str}     {midnight_st}    {ra3_east_str}   {morn_str}{trise_str}     {mr_str}   {ms_str}   {moon_ill}    {age_str}\")\n",
    "    outstr = \"{:6s}    {:5s}   {:24s}{:5s}     {:8s}    {:5s}   {:24s}{:5s}     {:5s}   {:5s}   {:3s}     {:5s}\".format(\n",
    "        d_str,\n",
    "        tset_str,\n",
    "        eve_str,\n",
    "        ra3_west_str,\n",
    "        midnight_st,\n",
    "        ra3_east_str,\n",
    "        morn_str,\n",
    "        trise_str,\n",
    "        mr_str,\n",
    "        ms_str,\n",
    "        moon_ill,\n",
    "        age_str\n",
    "    )\n",
    "    print(outstr)"
   ]
  },
  {
   "cell_type": "code",
   "execution_count": 42,
   "metadata": {},
   "outputs": [
    {
     "data": {
      "text/plain": [
       "datetime.datetime(2019, 1, 9, 17, 37, 15, 591415, tzinfo=<DstTzInfo 'America/Phoenix' MST-1 day, 17:00:00 STD>)"
      ]
     },
     "execution_count": 42,
     "metadata": {},
     "output_type": "execute_result"
    }
   ],
   "source": [
    "tset.to_datetime(timezone=tz)"
   ]
  },
  {
   "cell_type": "code",
   "execution_count": 47,
   "metadata": {},
   "outputs": [
    {
     "data": {
      "text/plain": [
       "'2019-01-10'"
      ]
     },
     "execution_count": 47,
     "metadata": {},
     "output_type": "execute_result"
    }
   ],
   "source": [
    "str(d.date())"
   ]
  },
  {
   "cell_type": "code",
   "execution_count": 82,
   "metadata": {},
   "outputs": [
    {
     "data": {
      "text/latex": [
       "$9^\\mathrm{h}55^\\mathrm{m}01.2992^\\mathrm{s}$"
      ],
      "text/plain": [
       "<Angle 9.91702755 hourangle>"
      ]
     },
     "execution_count": 82,
     "metadata": {},
     "output_type": "execute_result"
    }
   ],
   "source": [
    "t_test = Time(f\"{str(d.date())} 07:00:00\")\n",
    "t3 = t_test.sidereal_time(kind='apparent', longitude=mmt.location.lon) + 3 * u.hourangle + (30/3600) * u.hourang"
   ]
  },
  {
   "cell_type": "code",
   "execution_count": 83,
   "metadata": {},
   "outputs": [
    {
     "data": {
      "text/plain": [
       "'9 55'"
      ]
     },
     "execution_count": 83,
     "metadata": {},
     "output_type": "execute_result"
    }
   ],
   "source": [
    "f\"{int(t3.hms.h)} {int(t3.hms.m)}\""
   ]
  },
  {
   "cell_type": "code",
   "execution_count": 86,
   "metadata": {},
   "outputs": [],
   "source": [
    "t1 = d.date()"
   ]
  },
  {
   "cell_type": "code",
   "execution_count": 90,
   "metadata": {},
   "outputs": [
    {
     "data": {
      "text/plain": [
       "'Jan 10'"
      ]
     },
     "execution_count": 90,
     "metadata": {},
     "output_type": "execute_result"
    }
   ],
   "source": [
    "t1.strftime(\"%b %d\")"
   ]
  },
  {
   "cell_type": "code",
   "execution_count": 112,
   "metadata": {},
   "outputs": [
    {
     "data": {
      "text/latex": [
       "$23^\\mathrm{h}02^\\mathrm{m}21.4674^\\mathrm{s}$"
      ],
      "text/plain": [
       "<Angle 23.0392965 hourangle>"
      ]
     },
     "execution_count": 112,
     "metadata": {},
     "output_type": "execute_result"
    }
   ],
   "source": [
    "a = tset_twilights['18 Deg'].sidereal_time(kind='apparent', longitude=mmt.location.lon) - 3 * u.hourangle + (30/3600) * u.hourangle\n",
    "a.wrap_at(24 * u.hourangle)"
   ]
  },
  {
   "cell_type": "code",
   "execution_count": 116,
   "metadata": {},
   "outputs": [
    {
     "data": {
      "text/plain": [
       "'-0 57 39'"
      ]
     },
     "execution_count": 116,
     "metadata": {},
     "output_type": "execute_result"
    }
   ],
   "source": [
    "a.to_string(sep=' ', precision=0)"
   ]
  },
  {
   "cell_type": "code",
   "execution_count": 129,
   "metadata": {},
   "outputs": [
    {
     "data": {
      "text/plain": [
       "['18 Deg', '12 Deg', '6 Deg']"
      ]
     },
     "execution_count": 129,
     "metadata": {},
     "output_type": "execute_result"
    }
   ],
   "source": [
    "l = list(trise_twilights.keys())\n",
    "l.reverse()\n",
    "l"
   ]
  },
  {
   "cell_type": "code",
   "execution_count": 203,
   "metadata": {},
   "outputs": [
    {
     "data": {
      "text/plain": [
       "datetime.timedelta(days=5, seconds=19908, microseconds=779000)"
      ]
     },
     "execution_count": 203,
     "metadata": {},
     "output_type": "execute_result"
    }
   ],
   "source": [
    "diff = midnight.to_datetime(timezone=pytz.utc) - newmoons.utc_datetime()\n",
    "idx = abs(diff).argmin()\n",
    "age = diff[idx]\n",
    "age"
   ]
  },
  {
   "cell_type": "code",
   "execution_count": 205,
   "metadata": {},
   "outputs": [
    {
     "data": {
      "text/plain": [
       "5.23042568287037"
      ]
     },
     "execution_count": 205,
     "metadata": {},
     "output_type": "execute_result"
    }
   ],
   "source": [
    "age.total_seconds()/86400"
   ]
  },
  {
   "cell_type": "code",
   "execution_count": 207,
   "metadata": {},
   "outputs": [
    {
     "data": {
      "text/plain": [
       "86400"
      ]
     },
     "execution_count": 207,
     "metadata": {},
     "output_type": "execute_result"
    }
   ],
   "source": [
    "24*3600"
   ]
  },
  {
   "cell_type": "code",
   "execution_count": 222,
   "metadata": {},
   "outputs": [],
   "source": [
    "delta = -age.total_seconds()/86400"
   ]
  },
  {
   "cell_type": "code",
   "execution_count": 223,
   "metadata": {},
   "outputs": [
    {
     "data": {
      "text/plain": [
       "' -5.2'"
      ]
     },
     "execution_count": 223,
     "metadata": {},
     "output_type": "execute_result"
    }
   ],
   "source": [
    "\"{:5.1f}\".format(delta)"
   ]
  },
  {
   "cell_type": "code",
   "execution_count": 11,
   "metadata": {},
   "outputs": [
    {
     "data": {
      "text/plain": [
       "<Time tt=[2458430.1688849684 ... 2458903.1480309167] len=17>"
      ]
     },
     "execution_count": 11,
     "metadata": {},
     "output_type": "execute_result"
    }
   ],
   "source": [
    "newmoons"
   ]
  },
  {
   "cell_type": "code",
   "execution_count": 14,
   "metadata": {},
   "outputs": [
    {
     "data": {
      "text/plain": [
       "['2018-11-07T16:02:02Z',\n",
       " '2018-12-07T07:20:21Z',\n",
       " '2019-01-06T01:28:11Z',\n",
       " '2019-02-04T21:03:35Z',\n",
       " '2019-03-06T16:03:58Z',\n",
       " '2019-04-05T08:50:29Z',\n",
       " '2019-05-04T22:45:30Z',\n",
       " '2019-06-03T10:01:57Z',\n",
       " '2019-07-02T19:16:13Z',\n",
       " '2019-08-01T03:11:55Z',\n",
       " '2019-08-30T10:37:09Z',\n",
       " '2019-09-28T18:26:22Z',\n",
       " '2019-10-28T03:38:28Z',\n",
       " '2019-11-26T15:05:35Z',\n",
       " '2019-12-26T05:13:08Z',\n",
       " '2020-01-24T21:42:00Z',\n",
       " '2020-02-23T15:32:01Z']"
      ]
     },
     "execution_count": 14,
     "metadata": {},
     "output_type": "execute_result"
    }
   ],
   "source": [
    "[t.utc_iso() for t in newmoons]"
   ]
  },
  {
   "cell_type": "code",
   "execution_count": 15,
   "metadata": {},
   "outputs": [],
   "source": [
    "t1 = Time(\"2019-11-26T15:05:35Z\")\n",
    "t2 = Time(\"2019-12-11T07:00:00Z\")"
   ]
  },
  {
   "cell_type": "code",
   "execution_count": 16,
   "metadata": {},
   "outputs": [
    {
     "data": {
      "text/plain": [
       "<TimeDelta object: scale='tai' format='jd' value=-14.662789351851853>"
      ]
     },
     "execution_count": 16,
     "metadata": {},
     "output_type": "execute_result"
    }
   ],
   "source": [
    "t1 - t2"
   ]
  },
  {
   "cell_type": "code",
   "execution_count": null,
   "metadata": {},
   "outputs": [],
   "source": []
  }
 ],
 "metadata": {
  "kernelspec": {
   "display_name": "Python 3",
   "language": "python",
   "name": "python3"
  },
  "language_info": {
   "codemirror_mode": {
    "name": "ipython",
    "version": 3
   },
   "file_extension": ".py",
   "mimetype": "text/x-python",
   "name": "python",
   "nbconvert_exporter": "python",
   "pygments_lexer": "ipython3",
   "version": "3.7.5"
  }
 },
 "nbformat": 4,
 "nbformat_minor": 4
}
