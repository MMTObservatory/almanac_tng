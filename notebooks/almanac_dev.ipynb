{
 "cells": [
  {
   "cell_type": "code",
   "execution_count": 2,
   "metadata": {},
   "outputs": [],
   "source": [
    "import datetime\n",
    "import time\n",
    "import os\n",
    "import sys\n",
    "import pytz\n",
    "from pathlib import Path\n",
    "\n",
    "import numpy as np\n",
    "import pandas as pd\n",
    "\n",
    "import astroplan\n",
    "import skyfield\n",
    "\n",
    "import astropy.units as u\n",
    "\n",
    "from astropy.coordinates import EarthLocation\n",
    "from astropy.time import Time\n",
    "\n",
    "from skyfield import api\n",
    "from skyfield import almanac\n",
    "\n",
    "import matplotlib\n",
    "from matplotlib import style\n",
    "style.use('ggplot')\n",
    "import matplotlib.pyplot as plt"
   ]
  },
  {
   "cell_type": "code",
   "execution_count": 3,
   "metadata": {},
   "outputs": [],
   "source": [
    "%load_ext autoreload\n",
    "%autoreload 2\n",
    "%matplotlib widget\n",
    "\n",
    "ts = api.load.timescale()\n",
    "e = api.load('de421.bsp')\n",
    "tz = pytz.timezone(\"America/Phoenix\")"
   ]
  },
  {
   "cell_type": "code",
   "execution_count": 4,
   "metadata": {},
   "outputs": [],
   "source": [
    "def nearest_minute(dt):\n",
    "    # USNO predictions round to nearest minute so we use this hack to follow that\n",
    "    return (dt + datetime.timedelta(seconds=30)).replace(second=0, microsecond=0)"
   ]
  },
  {
   "cell_type": "code",
   "execution_count": 6,
   "metadata": {},
   "outputs": [
    {
     "data": {
      "text/plain": [
       "'2019-12-19T00:22:39.086'"
      ]
     },
     "execution_count": 6,
     "metadata": {},
     "output_type": "execute_result"
    }
   ],
   "source": [
    "lat = \"31:41:19.6\"\n",
    "lon = \"-110:53:04.4\"\n",
    "elevation = 2600 * u.m\n",
    "location = EarthLocation.from_geodetic(lon, lat, elevation)\n",
    "mmt = astroplan.Observer(name=\"MMTO\", location=location, timezone=\"US/Arizona\", pressure=0*u.mbar)\n",
    "tset = mmt.sun_set_time(Time(datetime.datetime.now()), which='next', horizon=-0.8333*u.deg)\n",
    "tset.isot"
   ]
  },
  {
   "cell_type": "code",
   "execution_count": 7,
   "metadata": {},
   "outputs": [],
   "source": [
    "mmt_sf = api.Topos(latitude_degrees=location.lat.value, longitude_degrees=location.lon.value, elevation_m=2600.0)"
   ]
  },
  {
   "cell_type": "code",
   "execution_count": 17,
   "metadata": {},
   "outputs": [
    {
     "name": "stdout",
     "output_type": "stream",
     "text": [
      "     2019          Sun     Sun     Sun    RA 3H                RA 3H    Sun     Sun     Sun               Moon    Moon   Moon @ Midnight\n",
      " Date    Sunset   6 Deg   12 Deg  18 Deg  West at  Sid Time    East at 18 Deg  12 Deg  6 Deg  Sunrise     rise    set    Illum     Age  \n",
      "                  W Hrz   W Hrz   W Hrz   18 Deg   Midnight    18 Deg  E Hrz   E Hrz   E Hrz                               %       Days\n",
      "\n",
      "Nov 01    17 34   17 59   18 28   18 57   18 17     2 21 31     10 40   5 18    5 46    6 15    6 40              21 38    30       5.1\n",
      "Nov 02    17 33   17 59   18 27   18 56   18 21     2 25 28     10 45   5 19    5 47    6 16    6 41              22 34    39       6.1\n",
      "Nov 03    17 33   17 58   18 27   18 55   18 24     2 29 24     10 50   5 19    5 48    6 17    6 42              23 29    49       7.1\n",
      "Nov 04    17 32   17 57   18 26   18 54   18 27     2 33 21     10 54   5 20    5 49    6 18    6 43              0 25     58       8.1\n",
      "Nov 05    17 31   17 56   18 25   18 54   18 30     2 37 18     10 59   5 21    5 49    6 18    6 44              1 19     67       9.1\n",
      "Nov 06    17 30   17 56   18 25   18 53   18 34     2 41 14     11 04   5 21    5 50    6 19    6 45              2 13     76      10.1\n",
      "Nov 07    17 29   17 55   18 24   18 53   18 37     2 45 11     11 08   5 22    5 51    6 20    6 45              3 07     83      11.1\n",
      "Nov 08    17 29   17 54   18 23   18 52   18 40     2 49 07     11 13   5 23    5 52    6 21    6 46              4 00     90      12.1\n",
      "Nov 09    17 28   17 54   18 23   18 51   18 44     2 53 04     11 18   5 24    5 52    6 22    6 47              4 54     95      13.1\n",
      "Nov 10    17 27   17 53   18 22   18 51   18 47     2 57 00     11 22   5 24    5 53    6 22    6 48              5 50     98      14.1\n",
      "Nov 11    17 27   17 52   18 22   18 50   18 50     3 00 57     11 27   5 25    5 54    6 23    6 49              6 47    100     -14.3\n",
      "Nov 12    17 26   17 52   18 21   18 50   18 54     3 04 53     11 32   5 26    5 55    6 24    6 50      17 54            99     -13.3\n",
      "Nov 13    17 25   17 51   18 20   18 49   18 57     3 08 50     11 36   5 27    5 56    6 25    6 51      18 34            97     -12.3\n",
      "Nov 14    17 25   17 51   18 20   18 49   19 01     3 12 47     11 41   5 27    5 56    6 26    6 52      19 19            92     -11.3\n",
      "Nov 15    17 24   17 50   18 20   18 49   19 04     3 16 43     11 46   5 28    5 57    6 27    6 52      20 10            86     -10.3\n",
      "Nov 16    17 24   17 50   18 19   18 48   19 08     3 20 40     11 50   5 29    5 58    6 27    6 53      21 07            77      -9.3\n",
      "Nov 17    17 23   17 49   18 19   18 48   19 12     3 24 36     11 55   5 30    5 59    6 28    6 54      22 08            68      -8.3\n",
      "Nov 18    17 23   17 49   18 18   18 47   19 15     3 28 33     12 00   5 30    5 59    6 29    6 55      23 13            57      -7.3\n",
      "Nov 19    17 22   17 48   18 18   18 47   19 19     3 32 29     12 05   5 31    6 00    6 30    6 56      0 19             45      -6.3\n",
      "Nov 20    17 22   17 48   18 18   18 47   19 22     3 36 26     12 09   5 32    6 01    6 31    6 57      1 25             34      -5.3\n",
      "Nov 21    17 22   17 48   18 17   18 47   19 26     3 40 22     12 14   5 33    6 02    6 32    6 58      2 31             24      -4.3\n",
      "Nov 22    17 21   17 48   18 17   18 46   19 30     3 44 19     12 19   5 33    6 03    6 32    6 59      3 37             15      -3.3\n",
      "Nov 23    17 21   17 47   18 17   18 46   19 34     3 48 16     12 23   5 34    6 03    6 33    6 59      4 44              7      -2.3\n",
      "Nov 24    17 21   17 47   18 17   18 46   19 37     3 52 12     12 28   5 35    6 04    6 34    7 00      5 51              2      -1.3\n",
      "Nov 25    17 20   17 47   18 17   18 46   19 41     3 56 09     12 33   5 36    6 05    6 35    7 01      6 57              0      -0.3\n",
      "Nov 26    17 20   17 47   18 16   18 46   19 45     4 00 05     12 37   5 36    6 06    6 36    7 02              17 44     1       0.7\n",
      "Nov 27    17 20   17 46   18 16   18 46   19 49     4 04 02     12 42   5 37    6 06    6 36    7 03              18 32     3       1.7\n",
      "Nov 28    17 20   17 46   18 16   18 46   19 53     4 07 58     12 47   5 38    6 07    6 37    7 04              19 24     8       2.7\n",
      "Nov 29    17 20   17 46   18 16   18 46   19 57     4 11 55     12 51   5 39    6 08    6 38    7 05              20 20    15       3.7\n",
      "Nov 30    17 20   17 46   18 16   18 46   20 01     4 15 51     12 56   5 39    6 09    6 39    7 05              21 16    23       4.7\n",
      "Dec 01    17 20   17 46   18 16   18 46   20 05     4 19 48     13 01   5 40    6 10    6 40    7 06              22 13    31       5.7\n",
      "Dec 02    17 20   17 46   18 16   18 46   20 09     4 23 45     13 05   5 41    6 10    6 40    7 07              23 09    41       6.7\n",
      "Dec 03    17 19   17 46   18 16   18 46   20 13     4 27 41     13 10   5 41    6 11    6 41    7 08              0 04     50       7.7\n",
      "Dec 04    17 20   17 46   18 16   18 46   20 17     4 31 38     13 15   5 42    6 12    6 42    7 09              0 57     60       8.7\n",
      "Dec 05    17 20   17 46   18 16   18 46   20 21     4 35 34     13 19   5 43    6 12    6 43    7 09              1 50     69       9.7\n",
      "Dec 06    17 20   17 46   18 17   18 46   20 25     4 39 31     13 24   5 44    6 13    6 43    7 10              2 44     77      10.7\n",
      "Dec 07    17 20   17 46   18 17   18 46   20 29     4 43 27     13 29   5 44    6 14    6 44    7 11              3 39     85      11.7\n",
      "Dec 08    17 20   17 47   18 17   18 47   20 33     4 47 24     13 33   5 45    6 15    6 45    7 12              4 35     91      12.7\n",
      "Dec 09    17 20   17 47   18 17   18 47   20 37     4 51 20     13 38   5 46    6 15    6 46    7 12              5 34     96      13.7\n",
      "Dec 10    17 20   17 47   18 17   18 47   20 41     4 55 17     13 42   5 46    6 16    6 46    7 13              6 35     99      14.7\n",
      "Dec 11    17 20   17 47   18 18   18 47   20 46     4 59 14     13 47   5 47    6 17    6 47    7 14                      100     -13.9\n"
     ]
    }
   ],
   "source": [
    "year = 2019\n",
    "\n",
    "# get new moons bracketing requested year\n",
    "t0 = ts.utc(year-1, 11, 1)\n",
    "t1 = ts.utc(year+1, 3, 1)\n",
    "phase_times, phase_flags = almanac.find_discrete(t0, t1, almanac.moon_phases(e))\n",
    "newmoons = phase_times[phase_flags == 0]\n",
    "\n",
    "date_range = pd.date_range(start=f\"11/1/{year}\", end=f\"12/11/{year}\", tz=tz)\n",
    "usno_horizon = -(5/6) * u.deg\n",
    "horizons = {\n",
    "    \"6 Deg\": -6 * u.deg,\n",
    "    \"12 Deg\": -12 * u.deg,\n",
    "    \"18 Deg\": -18 * u.deg\n",
    "}\n",
    "\n",
    "header1 = f\"     {year}          Sun     Sun     Sun    RA 3H                RA 3H    Sun     Sun     Sun               Moon    Moon   Moon @ Midnight\"\n",
    "header2 = \" Date    Sunset   6 Deg   12 Deg  18 Deg  West at  Sid Time    East at 18 Deg  12 Deg  6 Deg  Sunrise     rise    set    Illum     Age  \"\n",
    "header3 = \"                  W Hrz   W Hrz   W Hrz   18 Deg   Midnight    18 Deg  E Hrz   E Hrz   E Hrz                               %       Days\\n\"\n",
    "\n",
    "print(header1)\n",
    "print(header2)\n",
    "print(header3)\n",
    "for d in date_range:\n",
    "     # almanac day is MST, but its night falls into the next day in UT\n",
    "    night_start = Time(f\"{str(d.date())} 00:00:00\") + 1 * u.day\n",
    "    \n",
    "    d_str = d.date().strftime(\"%b %d\")\n",
    "    \n",
    "    tset = mmt.sun_set_time(night_start, which='next', horizon=usno_horizon)\n",
    "    tset_str = nearest_minute(tset.to_datetime(timezone=tz)).strftime(\"%-H %M\")\n",
    "    tset_twilights = {}\n",
    "    for k, h in horizons.items():\n",
    "        tset_twilights[k] = mmt.sun_set_time(night_start, which='next', horizon=h)\n",
    "        \n",
    "    eve_str = \"\"\n",
    "    for t in tset_twilights:\n",
    "        eve_str += nearest_minute(tset_twilights[t].to_datetime(timezone=tz)).strftime(\"%-H %M\")\n",
    "        eve_str += \"   \"\n",
    "\n",
    "    ra3_west = tset_twilights['18 Deg'].sidereal_time(kind='apparent', longitude=mmt.location.lon) - 3 * u.hourangle + (30/3600) * u.hourangle  # add 30 sec to round to nearest minute\n",
    "    ra3_west = ra3_west.wrap_at(24 * u.hourangle)\n",
    "    ra3_west_str = \"{:02d} {:02d}\".format(int(ra3_west.hms.h), int(ra3_west.hms.m))\n",
    "    \n",
    "    # set up local midnight for the date we're calculating\n",
    "    midnight = Time(f\"{str(d.date())} 07:00:00\") + 1 * u.day\n",
    "    midnight_st = (Time(f\"{str(d.date())} 07:00:00\") + 1 * u.day).sidereal_time(kind='apparent', longitude=mmt.location.lon).to_string(sep=' ', precision=0)\n",
    "\n",
    "    trise = mmt.sun_rise_time(night_start, which='next', horizon=usno_horizon)\n",
    "    trise_str = nearest_minute(trise.to_datetime(timezone=tz)).strftime(\"%-H %M\").format(\"{:5s}\")\n",
    "    trise_twilights = {}\n",
    "    for k, h in horizons.items():\n",
    "        trise_twilights[k] = mmt.sun_rise_time(night_start, which='next', horizon=h)\n",
    "         \n",
    "    ra3_east = trise_twilights['18 Deg'].sidereal_time(kind='apparent', longitude=mmt.location.lon) + 3 * u.hourangle + (30/3600) * u.hourangle  # add 30 sec to round to nearest minute\n",
    "    ra3_east = ra3_east.wrap_at(24 * u.hourangle)\n",
    "    ra3_east_str = \"{:02d} {:02d}\".format(int(ra3_east.hms.h), int(ra3_east.hms.m))\n",
    "\n",
    "    morn_str = \"\"\n",
    "    for t in list(trise_twilights.keys())[::-1]:\n",
    "        morn_str += nearest_minute(trise_twilights[t].to_datetime(timezone=tz)).strftime(\"%-H %M\")\n",
    "        morn_str += \"    \"\n",
    "    \n",
    "    moon_rise = mmt.moon_rise_time(night_start, which='next', horizon=usno_horizon)\n",
    "    moon_set = mmt.moon_set_time(night_start, which='next', horizon=usno_horizon)\n",
    "\n",
    "    if moon_rise < trise and moon_rise > tset:\n",
    "        mr_str = nearest_minute(moon_rise.to_datetime(timezone=tz)).strftime(\"%-H %M\")\n",
    "    else:\n",
    "        mr_str = \"     \"\n",
    "    if moon_set > tset and moon_set < trise:\n",
    "        ms_str = nearest_minute(moon_set.to_datetime(timezone=tz)).strftime(\"%-H %M\")\n",
    "    else:\n",
    "        ms_str = \"     \"\n",
    "    \n",
    "    moon_ill = \"{:3d}\".format(int(round(100 * mmt.moon_illumination(midnight))))\n",
    "    newmoon_diff = midnight.to_datetime(timezone=pytz.utc) - newmoons.utc_datetime()\n",
    "    nearest = abs(newmoon_diff).argmin()\n",
    "    age = newmoon_diff[nearest].total_seconds()/86400\n",
    "    age_str = \"{:5.1f}\".format(age)\n",
    "    #print(f\"{d_str}    {tset_str}   {eve_str}{ra3_west_str}     {midnight_st}    {ra3_east_str}   {morn_str}{trise_str}     {mr_str}   {ms_str}   {moon_ill}    {age_str}\")\n",
    "    outstr = \"{:6s}    {:5s}   {:24s}{:5s}     {:8s}    {:5s}   {:24s}{:5s}     {:5s}   {:5s}   {:3s}     {:5s}\".format(\n",
    "        d_str,\n",
    "        tset_str,\n",
    "        eve_str,\n",
    "        ra3_west_str,\n",
    "        midnight_st,\n",
    "        ra3_east_str,\n",
    "        morn_str,\n",
    "        trise_str,\n",
    "        mr_str,\n",
    "        ms_str,\n",
    "        moon_ill,\n",
    "        age_str\n",
    "    )\n",
    "    print(outstr)"
   ]
  },
  {
   "cell_type": "code",
   "execution_count": 42,
   "metadata": {},
   "outputs": [
    {
     "data": {
      "text/plain": [
       "datetime.datetime(2019, 1, 9, 17, 37, 15, 591415, tzinfo=<DstTzInfo 'America/Phoenix' MST-1 day, 17:00:00 STD>)"
      ]
     },
     "execution_count": 42,
     "metadata": {},
     "output_type": "execute_result"
    }
   ],
   "source": [
    "tset.to_datetime(timezone=tz)"
   ]
  },
  {
   "cell_type": "code",
   "execution_count": 47,
   "metadata": {},
   "outputs": [
    {
     "data": {
      "text/plain": [
       "'2019-01-10'"
      ]
     },
     "execution_count": 47,
     "metadata": {},
     "output_type": "execute_result"
    }
   ],
   "source": [
    "str(d.date())"
   ]
  },
  {
   "cell_type": "code",
   "execution_count": 82,
   "metadata": {},
   "outputs": [
    {
     "data": {
      "text/latex": [
       "$9^\\mathrm{h}55^\\mathrm{m}01.2992^\\mathrm{s}$"
      ],
      "text/plain": [
       "<Angle 9.91702755 hourangle>"
      ]
     },
     "execution_count": 82,
     "metadata": {},
     "output_type": "execute_result"
    }
   ],
   "source": [
    "t_test = Time(f\"{str(d.date())} 07:00:00\")\n",
    "t3 = t_test.sidereal_time(kind='apparent', longitude=mmt.location.lon) + 3 * u.hourangle + (30/3600) * u.hourang"
   ]
  },
  {
   "cell_type": "code",
   "execution_count": 83,
   "metadata": {},
   "outputs": [
    {
     "data": {
      "text/plain": [
       "'9 55'"
      ]
     },
     "execution_count": 83,
     "metadata": {},
     "output_type": "execute_result"
    }
   ],
   "source": [
    "f\"{int(t3.hms.h)} {int(t3.hms.m)}\""
   ]
  },
  {
   "cell_type": "code",
   "execution_count": 86,
   "metadata": {},
   "outputs": [],
   "source": [
    "t1 = d.date()"
   ]
  },
  {
   "cell_type": "code",
   "execution_count": 90,
   "metadata": {},
   "outputs": [
    {
     "data": {
      "text/plain": [
       "'Jan 10'"
      ]
     },
     "execution_count": 90,
     "metadata": {},
     "output_type": "execute_result"
    }
   ],
   "source": [
    "t1.strftime(\"%b %d\")"
   ]
  },
  {
   "cell_type": "code",
   "execution_count": 112,
   "metadata": {},
   "outputs": [
    {
     "data": {
      "text/latex": [
       "$23^\\mathrm{h}02^\\mathrm{m}21.4674^\\mathrm{s}$"
      ],
      "text/plain": [
       "<Angle 23.0392965 hourangle>"
      ]
     },
     "execution_count": 112,
     "metadata": {},
     "output_type": "execute_result"
    }
   ],
   "source": [
    "a = tset_twilights['18 Deg'].sidereal_time(kind='apparent', longitude=mmt.location.lon) - 3 * u.hourangle + (30/3600) * u.hourangle\n",
    "a.wrap_at(24 * u.hourangle)"
   ]
  },
  {
   "cell_type": "code",
   "execution_count": 116,
   "metadata": {},
   "outputs": [
    {
     "data": {
      "text/plain": [
       "'-0 57 39'"
      ]
     },
     "execution_count": 116,
     "metadata": {},
     "output_type": "execute_result"
    }
   ],
   "source": [
    "a.to_string(sep=' ', precision=0)"
   ]
  },
  {
   "cell_type": "code",
   "execution_count": 129,
   "metadata": {},
   "outputs": [
    {
     "data": {
      "text/plain": [
       "['18 Deg', '12 Deg', '6 Deg']"
      ]
     },
     "execution_count": 129,
     "metadata": {},
     "output_type": "execute_result"
    }
   ],
   "source": [
    "l = list(trise_twilights.keys())\n",
    "l.reverse()\n",
    "l"
   ]
  },
  {
   "cell_type": "code",
   "execution_count": 203,
   "metadata": {},
   "outputs": [
    {
     "data": {
      "text/plain": [
       "datetime.timedelta(days=5, seconds=19908, microseconds=779000)"
      ]
     },
     "execution_count": 203,
     "metadata": {},
     "output_type": "execute_result"
    }
   ],
   "source": [
    "diff = midnight.to_datetime(timezone=pytz.utc) - newmoons.utc_datetime()\n",
    "idx = abs(diff).argmin()\n",
    "age = diff[idx]\n",
    "age"
   ]
  },
  {
   "cell_type": "code",
   "execution_count": 205,
   "metadata": {},
   "outputs": [
    {
     "data": {
      "text/plain": [
       "5.23042568287037"
      ]
     },
     "execution_count": 205,
     "metadata": {},
     "output_type": "execute_result"
    }
   ],
   "source": [
    "age.total_seconds()/86400"
   ]
  },
  {
   "cell_type": "code",
   "execution_count": 207,
   "metadata": {},
   "outputs": [
    {
     "data": {
      "text/plain": [
       "86400"
      ]
     },
     "execution_count": 207,
     "metadata": {},
     "output_type": "execute_result"
    }
   ],
   "source": [
    "24*3600"
   ]
  },
  {
   "cell_type": "code",
   "execution_count": 222,
   "metadata": {},
   "outputs": [],
   "source": [
    "delta = -age.total_seconds()/86400"
   ]
  },
  {
   "cell_type": "code",
   "execution_count": 223,
   "metadata": {},
   "outputs": [
    {
     "data": {
      "text/plain": [
       "' -5.2'"
      ]
     },
     "execution_count": 223,
     "metadata": {},
     "output_type": "execute_result"
    }
   ],
   "source": [
    "\"{:5.1f}\".format(delta)"
   ]
  },
  {
   "cell_type": "code",
   "execution_count": 11,
   "metadata": {},
   "outputs": [
    {
     "data": {
      "text/plain": [
       "<Time tt=[2458430.1688849684 ... 2458903.1480309167] len=17>"
      ]
     },
     "execution_count": 11,
     "metadata": {},
     "output_type": "execute_result"
    }
   ],
   "source": [
    "newmoons"
   ]
  },
  {
   "cell_type": "code",
   "execution_count": 14,
   "metadata": {},
   "outputs": [
    {
     "data": {
      "text/plain": [
       "['2018-11-07T16:02:02Z',\n",
       " '2018-12-07T07:20:21Z',\n",
       " '2019-01-06T01:28:11Z',\n",
       " '2019-02-04T21:03:35Z',\n",
       " '2019-03-06T16:03:58Z',\n",
       " '2019-04-05T08:50:29Z',\n",
       " '2019-05-04T22:45:30Z',\n",
       " '2019-06-03T10:01:57Z',\n",
       " '2019-07-02T19:16:13Z',\n",
       " '2019-08-01T03:11:55Z',\n",
       " '2019-08-30T10:37:09Z',\n",
       " '2019-09-28T18:26:22Z',\n",
       " '2019-10-28T03:38:28Z',\n",
       " '2019-11-26T15:05:35Z',\n",
       " '2019-12-26T05:13:08Z',\n",
       " '2020-01-24T21:42:00Z',\n",
       " '2020-02-23T15:32:01Z']"
      ]
     },
     "execution_count": 14,
     "metadata": {},
     "output_type": "execute_result"
    }
   ],
   "source": [
    "[t.utc_iso() for t in newmoons]"
   ]
  },
  {
   "cell_type": "code",
   "execution_count": 15,
   "metadata": {},
   "outputs": [],
   "source": [
    "t1 = Time(\"2019-11-26T15:05:35Z\")\n",
    "t2 = Time(\"2019-12-11T07:00:00Z\")"
   ]
  },
  {
   "cell_type": "code",
   "execution_count": 16,
   "metadata": {},
   "outputs": [
    {
     "data": {
      "text/plain": [
       "<TimeDelta object: scale='tai' format='jd' value=-14.662789351851853>"
      ]
     },
     "execution_count": 16,
     "metadata": {},
     "output_type": "execute_result"
    }
   ],
   "source": [
    "t1 - t2"
   ]
  },
  {
   "cell_type": "code",
   "execution_count": null,
   "metadata": {},
   "outputs": [],
   "source": []
  }
 ],
 "metadata": {
  "kernelspec": {
   "display_name": "Python 3",
   "language": "python",
   "name": "python3"
  },
  "language_info": {
   "codemirror_mode": {
    "name": "ipython",
    "version": 3
   },
   "file_extension": ".py",
   "mimetype": "text/x-python",
   "name": "python",
   "nbconvert_exporter": "python",
   "pygments_lexer": "ipython3",
   "version": "3.7.5"
  }
 },
 "nbformat": 4,
 "nbformat_minor": 4
}
