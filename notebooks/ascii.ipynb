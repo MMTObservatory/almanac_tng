{
 "cells": [
  {
   "cell_type": "code",
   "execution_count": 9,
   "metadata": {},
   "outputs": [],
   "source": [
    "from mmt_almanac.ascii import ascii_night, TBL_HDR, night_header, page_header, ascii_month, ascii_year\n",
    "from mmt_almanac.almanac import nightly_almanac\n",
    "import datetime\n",
    "import pandas as pd\n",
    "from astropy.time import Time\n",
    "\n",
    "import pdfkit"
   ]
  },
  {
   "cell_type": "code",
   "execution_count": 2,
   "metadata": {},
   "outputs": [
    {
     "name": "stdout",
     "output_type": "stream",
     "text": [
      "2021          Sun     Sun     Sun    RA 3H                RA 3H    Sun     Sun     Sun               Moon    Moon   Moon at Midnight\n",
      " Date    Sunset   6 Deg   12 Deg  18 Deg  West at  Sid Time    East at 18 Deg  12 Deg  6 Deg  Sunrise     rise    set    Illum     Age  \n",
      "                  W Hrz   W Hrz   W Hrz   18 Deg   Midnight    18 Deg  E Hrz   E Hrz   E Hrz                               %       Days\n",
      "\n",
      "May 01    19 04   19 30   20 01   20 33   07 50     14 18 07    21 26   4 08   4 40   5 11      5 37      0 32             67      -9.5\n",
      "May 02    19 05   19 31   20 02   20 34   07 55     14 22 04    21 29   4 06   4 39   5 10      5 36      1 21             56      -8.5\n",
      "May 03    19 05   19 31   20 03   20 35   08 00     14 26 00    21 31   4 05   4 38   5 09      5 35      2 03             45      -7.5\n",
      "May 04    19 06   19 32   20 03   20 36   08 05     14 29 57    21 34   4 04   4 37   5 08      5 34      2 39             35      -6.5\n",
      "May 05    19 07   19 33   20 04   20 37   08 10     14 33 53    21 37   4 03   4 36   5 07      5 33      3 11             26      -5.5\n",
      "May 06    19 07   19 34   20 05   20 38   08 15     14 37 50    21 40   4 02   4 35   5 06      5 32      3 40             18      -4.5\n",
      "May 07    19 08   19 34   20 06   20 39   08 20     14 41 46    21 43   4 01   4 34   5 05      5 32      4 07             11      -3.5\n",
      "May 08    19 09   19 35   20 07   20 40   08 25     14 45 43    21 45   4 00   4 33   5 05      5 31      4 34              6      -2.5\n",
      "May 09    19 09   19 36   20 08   20 41   08 30     14 49 40    21 48   3 58   4 32   5 04      5 30      5 02              2      -1.5\n",
      "May 10    19 10   19 37   20 09   20 42   08 35     14 53 36    21 51   3 57   4 31   5 03      5 29                        0      -0.5\n",
      "May 11    19 11   19 37   20 09   20 43   08 40     14 57 33    21 54   3 56   4 30   5 02      5 29              19 20     0       0.5\n",
      "May 12    19 12   19 38   20 10   20 44   08 45     15 01 29    21 57   3 55   4 29   5 01      5 28              20 16     2       1.5\n",
      "May 13    19 12   19 39   20 11   20 45   08 49     15 05 26    22 00   3 54   4 28   5 01      5 27              21 12     6       2.5\n",
      "May 14    19 13   19 40   20 12   20 46   08 54     15 09 22    22 03   3 53   4 28   5 00      5 27              22 06    11       3.5\n",
      "May 15    19 14   19 40   20 13   20 47   08 59     15 13 19    22 06   3 53   4 27   4 59      5 26              22 59    17       4.5\n",
      "May 16    19 14   19 41   20 14   20 48   09 04     15 17 15    22 09   3 52   4 26   4 58      5 25              23 47    25       5.5\n",
      "May 17    19 15   19 42   20 14   20 49   09 09     15 21 12    22 12   3 51   4 25   4 58      5 25              0 31     35       6.5\n",
      "May 18    19 16   19 43   20 15   20 50   09 14     15 25 09    22 15   3 50   4 25   4 57      5 24              1 10     45       7.5\n",
      "May 19    19 16   19 43   20 16   20 51   09 19     15 29 05    22 18   3 49   4 24   4 57      5 24              1 47     55       8.5\n",
      "May 20    19 17   19 44   20 17   20 52   09 24     15 33 02    22 21   3 48   4 23   4 56      5 23              2 21     66       9.5\n",
      "May 21    19 18   19 45   20 18   20 53   09 29     15 36 58    22 25   3 48   4 23   4 55      5 23              2 54     76      10.5\n",
      "May 22    19 18   19 45   20 18   20 54   09 34     15 40 55    22 28   3 47   4 22   4 55      5 22              3 27     85      11.5\n",
      "May 23    19 19   19 46   20 19   20 55   09 38     15 44 51    22 31   3 46   4 21   4 54      5 22              4 03     93      12.5\n",
      "May 24    19 20   19 47   20 20   20 55   09 43     15 48 48    22 34   3 45   4 21   4 54      5 21              4 43     98      13.5\n",
      "May 25    19 20   19 48   20 21   20 56   09 48     15 52 44    22 38   3 45   4 20   4 53      5 21                      100      14.5\n",
      "May 26    19 21   19 48   20 22   20 57   09 53     15 56 41    22 41   3 44   4 20   4 53      5 20      20 02            99     -14.2\n",
      "May 27    19 21   19 49   20 22   20 58   09 58     16 00 38    22 44   3 43   4 19   4 53      5 20      21 14            95     -13.2\n",
      "May 28    19 22   19 50   20 23   20 59   10 02     16 04 34    22 48   3 43   4 19   4 52      5 20      22 18            89     -12.2\n",
      "May 29    19 23   19 50   20 24   21 00   10 07     16 08 31    22 51   3 42   4 18   4 52      5 19      23 14            80     -11.2\n",
      "May 30    19 23   19 51   20 24   21 00   10 12     16 12 27    22 54   3 42   4 18   4 52      5 19      0 00             71     -10.2\n",
      "May 31    19 24   19 51   20 25   21 01   10 17     16 16 24    22 58   3 41   4 18   4 51      5 19      0 39             61      -9.2\n",
      "\n"
     ]
    }
   ],
   "source": [
    "print(ascii_month(month=5, year=2021))"
   ]
  },
  {
   "cell_type": "code",
   "execution_count": 3,
   "metadata": {},
   "outputs": [
    {
     "data": {
      "text/plain": "[1, 2, 3, 4, 5, 6, 7, 8, 9, 10, 11, 12]"
     },
     "execution_count": 3,
     "metadata": {},
     "output_type": "execute_result"
    }
   ],
   "source": [
    "list(range(1, 13))"
   ]
  },
  {
   "cell_type": "code",
   "execution_count": 7,
   "metadata": {},
   "outputs": [],
   "source": [
    "s = ascii_year()"
   ]
  },
  {
   "cell_type": "code",
   "execution_count": 8,
   "metadata": {},
   "outputs": [],
   "source": [
    "with open(\"blah.txt\", 'w') as fp:\n",
    "    fp.write(s)"
   ]
  },
  {
   "cell_type": "code",
   "execution_count": 11,
   "metadata": {},
   "outputs": [
    {
     "name": "stdout",
     "output_type": "stream",
     "text": [
      "QStandardPaths: XDG_RUNTIME_DIR not set, defaulting to '/tmp/runtime-tim'\n",
      "Loading page (1/2)\n",
      "Printing pages (2/2)                                               \n",
      "Done                                                           \n"
     ]
    },
    {
     "data": {
      "text/plain": "True"
     },
     "execution_count": 11,
     "metadata": {},
     "output_type": "execute_result"
    }
   ],
   "source": [
    "pdfkit.from_string(s, \"blah.pdf\")"
   ]
  },
  {
   "cell_type": "code",
   "execution_count": 12,
   "metadata": {},
   "outputs": [
    {
     "data": {
      "text/plain": "'0.1.dev47+g2b3a071.d20201230'"
     },
     "execution_count": 12,
     "metadata": {},
     "output_type": "execute_result"
    }
   ],
   "source": [
    "import mmt_almanac\n",
    "mmt_almanac.__version__"
   ]
  },
  {
   "cell_type": "code",
   "execution_count": null,
   "metadata": {},
   "outputs": [],
   "source": []
  }
 ],
 "metadata": {
  "kernelspec": {
   "display_name": "Python 3.8.5 64-bit ('py38': conda)",
   "metadata": {
    "interpreter": {
     "hash": "a4c539709e070e158e2748515cf26f6c962f975a48d0c9500706b419e45dbdb2"
    }
   },
   "name": "python3"
  },
  "language_info": {
   "codemirror_mode": {
    "name": "ipython",
    "version": 3
   },
   "file_extension": ".py",
   "mimetype": "text/x-python",
   "name": "python",
   "nbconvert_exporter": "python",
   "pygments_lexer": "ipython3",
   "version": "3.8.5"
  },
  "orig_nbformat": 2
 },
 "nbformat": 4,
 "nbformat_minor": 2
}